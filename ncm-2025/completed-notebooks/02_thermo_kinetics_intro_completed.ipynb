{
 "cells": [
  {
   "cell_type": "code",
   "execution_count": 1,
   "id": "56c2639e",
   "metadata": {},
   "outputs": [
    {
     "name": "stdout",
     "output_type": "stream",
     "text": [
      "/home/avcopan/code/other/cantera-workshop/.pixi/envs/default/lib/python3.13/site-packages/cantera/__init__.py\n"
     ]
    }
   ],
   "source": [
    "import numpy as np\n",
    "import matplotlib.pyplot as plt\n",
    "import cantera as ct\n",
    "print(ct.__file__)\n",
    "\n",
    "plt.rcParams['figure.constrained_layout.use'] = True\n",
    "%matplotlib widget"
   ]
  },
  {
   "cell_type": "markdown",
   "id": "05447884",
   "metadata": {},
   "source": [
    "## Mechanism files & basic info\n",
    "\n",
    "https://github.com/Cantera/cantera/blob/main/data/gri30.yaml"
   ]
  },
  {
   "cell_type": "code",
   "execution_count": 2,
   "id": "2f7e97f0",
   "metadata": {},
   "outputs": [],
   "source": [
    "gas = ct.Solution('gri30.yaml')"
   ]
  },
  {
   "cell_type": "code",
   "execution_count": 3,
   "id": "e9e998e3",
   "metadata": {},
   "outputs": [
    {
     "data": {
      "text/plain": [
       "(53, 325)"
      ]
     },
     "execution_count": 3,
     "metadata": {},
     "output_type": "execute_result"
    }
   ],
   "source": [
    "gas.n_species, gas.n_reactions"
   ]
  },
  {
   "cell_type": "code",
   "execution_count": 4,
   "id": "735748c9",
   "metadata": {},
   "outputs": [
    {
     "name": "stdout",
     "output_type": "stream",
     "text": [
      "['H2', 'H', 'O', 'O2', 'OH', 'H2O', 'HO2', 'H2O2', 'C', 'CH', 'CH2', 'CH2(S)', 'CH3', 'CH4', 'CO', 'CO2', 'HCO', 'CH2O', 'CH2OH', 'CH3O', 'CH3OH', 'C2H', 'C2H2', 'C2H3', 'C2H4', 'C2H5', 'C2H6', 'HCCO', 'CH2CO', 'HCCOH', 'N', 'NH', 'NH2', 'NH3', 'NNH', 'NO', 'NO2', 'N2O', 'HNO', 'CN', 'HCN', 'H2CN', 'HCNN', 'HCNO', 'HOCN', 'HNCO', 'NCO', 'N2', 'AR', 'C3H7', 'C3H8', 'CH2CHO', 'CH3CHO']\n"
     ]
    }
   ],
   "source": [
    "print(gas.species_names)"
   ]
  },
  {
   "cell_type": "markdown",
   "id": "0370bb3d",
   "metadata": {},
   "source": [
    "## Species thermo data\n",
    "\n",
    "NASA 7-coefficient polynomials:\n",
    "\n",
    "$$   \\frac{\\hat{c}_p^\\circ(T)}{\\overline{R}} = a_0 + a_1 T + a_2 T^2 + a_3 T^3 + a_4 T^4 $$\n",
    "\n",
    "$$   \\frac{\\hat{h}^\\circ (T)}{\\overline{R} T} = a_0 + \\frac{a_1}{2} T + \\frac{a_2}{3} T^2 +\n",
    "                         \\frac{a_3}{4} T^3 + \\frac{a_4}{5} T^4 + \\frac{a_5}{T} $$\n",
    "\n",
    "$$   \\frac{\\hat{s}^\\circ(T)}{\\overline{R}} = a_0 \\ln T + a_1 T + \\frac{a_2}{2} T^2 + \\frac{a_3}{3} T^3 +\n",
    "                      \\frac{a_4}{4} T^4 + a_6 $$"
   ]
  },
  {
   "cell_type": "code",
   "execution_count": null,
   "id": "92e85e22",
   "metadata": {},
   "outputs": [],
   "source": [
    "CH4 = gas.species(\"CH4\")\n",
    "CH4.thermo.input_data"
   ]
  },
  {
   "cell_type": "code",
   "execution_count": null,
   "id": "d66cd187",
   "metadata": {},
   "outputs": [],
   "source": [
    "TT = np.linspace(300, 2000, 200)\n",
    "cp = [CH4.thermo.cp(T) for T in TT]"
   ]
  },
  {
   "cell_type": "code",
   "execution_count": null,
   "id": "4be10f92",
   "metadata": {},
   "outputs": [],
   "source": [
    "fig, ax = plt.subplots()\n",
    "ax.plot(TT, cp);"
   ]
  },
  {
   "cell_type": "code",
   "execution_count": null,
   "id": "e6d8d260",
   "metadata": {},
   "outputs": [],
   "source": [
    "gas()"
   ]
  },
  {
   "cell_type": "markdown",
   "id": "63a8622e",
   "metadata": {},
   "source": [
    "## Setting thermodynamic state\n",
    "- Always requires two variables, e.g. $(T, P)$ or $(T, v)$ or $(s, P)$ etc.\n",
    "- Specify `None` to hold a property constant\n",
    "\n",
    "https://cantera.org/documentation/docs-3.0/sphinx/html/cython/thermo.html#thermophase"
   ]
  },
  {
   "cell_type": "code",
   "execution_count": null,
   "id": "353c1ced",
   "metadata": {},
   "outputs": [],
   "source": [
    "gas.TP = 500, ct.one_atm\n",
    "gas()"
   ]
  },
  {
   "cell_type": "code",
   "execution_count": null,
   "id": "71f934a3",
   "metadata": {},
   "outputs": [],
   "source": [
    "gas.SP = None, 2 * ct.one_atm\n",
    "gas()"
   ]
  },
  {
   "cell_type": "code",
   "execution_count": null,
   "id": "d5907cf6",
   "metadata": {},
   "outputs": [],
   "source": []
  },
  {
   "cell_type": "markdown",
   "id": "8f94c193",
   "metadata": {},
   "source": [
    "## Setting composition\n",
    "- Main ways are by setting either mass fractions ($Y$) or mole fractions ($X$)\n",
    "- Can be set alone (in which case $(T,\\rho)$ held constant), or with a valid property pair\n",
    "- Mass/mole fractions are automatically normalized to 1.0\n",
    "- Can also set equivalence ratio"
   ]
  },
  {
   "cell_type": "code",
   "execution_count": null,
   "id": "ca1b9be5",
   "metadata": {},
   "outputs": [],
   "source": [
    "gas.TPX = 300, ct.one_atm, {'H2': 1.0, 'O2': 1.5}\n",
    "gas()"
   ]
  },
  {
   "cell_type": "code",
   "execution_count": null,
   "id": "26faed18",
   "metadata": {},
   "outputs": [],
   "source": [
    "X = np.zeros(gas.n_species)\n",
    "X[9:14] = 1.0\n",
    "gas.X = X\n",
    "gas()"
   ]
  },
  {
   "cell_type": "code",
   "execution_count": null,
   "id": "619ba001",
   "metadata": {},
   "outputs": [],
   "source": [
    "gas.TPY = None, None, \"CH4:1.0, N2:3\"\n",
    "gas()"
   ]
  },
  {
   "cell_type": "code",
   "execution_count": null,
   "id": "6108d3e6",
   "metadata": {},
   "outputs": [],
   "source": [
    "gas.TP = 500, 10 * ct.one_atm\n",
    "gas.set_equivalence_ratio(0.5, \"CH4:1.0\", \"O2:1, N2:3.76\")\n",
    "gas()"
   ]
  },
  {
   "cell_type": "code",
   "execution_count": null,
   "id": "32054e61",
   "metadata": {},
   "outputs": [],
   "source": [
    "# gas.set_equivalence_ratio?"
   ]
  },
  {
   "cell_type": "markdown",
   "id": "109f1f4a",
   "metadata": {},
   "source": [
    "## Flame temperature calculation\n",
    "\n",
    "With a guest appearance by the `SolutionArray` class."
   ]
  },
  {
   "cell_type": "code",
   "execution_count": null,
   "id": "82e9362e",
   "metadata": {},
   "outputs": [],
   "source": [
    "phis = np.linspace(0.4, 3.0, 100)\n",
    "Tad = []\n",
    "T0 = 300\n",
    "P0 = ct.one_atm\n",
    "fuel = \"C2H6: 1.0\"\n",
    "\n",
    "for phi in phis:\n",
    "    gas.TP = T0, P0\n",
    "    gas.set_equivalence_ratio(phi, fuel, \"O2:1.0, N2:3.76\")\n",
    "    gas.equilibrate(\"HP\")\n",
    "    Tad.append(gas.T)"
   ]
  },
  {
   "cell_type": "code",
   "execution_count": null,
   "id": "673bb9dd",
   "metadata": {},
   "outputs": [],
   "source": [
    "fig, ax = plt.subplots()\n",
    "ax.plot(phis, Tad)\n",
    "ax.set(xlabel=\"Equivalence ratio, $\\\\phi$\", ylabel=\"adiabatic flame temperature [K]\");"
   ]
  },
  {
   "cell_type": "code",
   "execution_count": null,
   "id": "964559ab",
   "metadata": {},
   "outputs": [],
   "source": [
    "states = ct.SolutionArray(gas, len(phis))\n",
    "states.Y.shape"
   ]
  },
  {
   "cell_type": "code",
   "execution_count": null,
   "id": "5365a1fa",
   "metadata": {},
   "outputs": [],
   "source": [
    "states.TP = T0, P0\n",
    "states.set_equivalence_ratio(phis, fuel, \"O2:1.0, N2:3.76\")\n",
    "states.equilibrate(\"HP\")"
   ]
  },
  {
   "cell_type": "code",
   "execution_count": null,
   "id": "43bfd64d",
   "metadata": {},
   "outputs": [],
   "source": [
    "fig, ax = plt.subplots()\n",
    "species = ['CO2', 'CO', 'H2', 'O2']\n",
    "ax.plot(phis, states(*species).X, label=species)\n",
    "ax.legend();"
   ]
  },
  {
   "cell_type": "markdown",
   "id": "39ca2416",
   "metadata": {},
   "source": [
    "## Kinetics & Reactions\n",
    "\n",
    "https://cantera.org/documentation/docs-3.0/sphinx/html/cython/kinetics.html#kinetics"
   ]
  },
  {
   "cell_type": "code",
   "execution_count": null,
   "id": "a1886876",
   "metadata": {},
   "outputs": [],
   "source": [
    "R = gas.reaction(1)\n",
    "R"
   ]
  },
  {
   "cell_type": "code",
   "execution_count": null,
   "id": "fdbaa445",
   "metadata": {},
   "outputs": [],
   "source": [
    "R.rate.pre_exponential_factor"
   ]
  },
  {
   "cell_type": "code",
   "execution_count": null,
   "id": "9a73af58",
   "metadata": {},
   "outputs": [],
   "source": [
    "R.reactants"
   ]
  },
  {
   "cell_type": "code",
   "execution_count": null,
   "id": "07119a52",
   "metadata": {},
   "outputs": [],
   "source": [
    "gas.forward_rate_constants[1]"
   ]
  },
  {
   "cell_type": "code",
   "execution_count": null,
   "id": "4fc262a5",
   "metadata": {},
   "outputs": [],
   "source": [
    "gas.net_rates_of_progress[1]"
   ]
  },
  {
   "cell_type": "markdown",
   "id": "71afcb40",
   "metadata": {},
   "source": [
    "## Defining reactions & exploring equilibrium\n",
    "\n",
    "$$ a \\mathrm{A} + b \\mathrm{B} \\rightleftharpoons c \\mathrm{C} + d \\mathrm{D} $$\n",
    "\n",
    "$$ \\Delta_r^\\circ \\hat{g} = \\Delta_r^\\circ \\hat{h} - T \\Delta_r^\\circ \\hat{s}$$\n",
    "\n",
    "$$ K_c = \\frac{k_f}{k_r} = \\frac{[\\mathrm{C}]^c [\\mathrm{D}]^d}{[\\mathrm{A}]^a [\\mathrm{B}]^b} = \\exp\\left( \\frac{\\Delta_r^\\circ \\hat{g}}{RT} \\right) \\left( \\frac{p^o}{RT}\\right)^{\\nu_{net}} $$"
   ]
  },
  {
   "cell_type": "code",
   "execution_count": null,
   "id": "d10cd69a",
   "metadata": {},
   "outputs": [],
   "source": [
    "R1 = ct.Reaction(equation=\"CO + O = CO2\", rate=ct.Arrhenius(0.0, 0.0, 0.0))\n",
    "R2 = ct.Reaction(equation=\"H + OH = H2O\", rate=ct.Arrhenius(0.0, 0.0, 0.0))\n",
    "gas.add_reaction(R1)\n",
    "gas.add_reaction(R2)"
   ]
  },
  {
   "cell_type": "code",
   "execution_count": null,
   "id": "1a2aaef5",
   "metadata": {},
   "outputs": [],
   "source": [
    "iR1 = gas.n_reactions - 2\n",
    "iR2 = gas.n_reactions - 1\n",
    "\n",
    "T = np.linspace(300, 2500, 500)\n",
    "states = ct.SolutionArray(gas, len(T))\n",
    "states.TPX = T, ct.one_atm, \"CO2:1.0, H2O:1.0, N2:3.76, O2:1.0\"\n",
    "dh0 = states.delta_standard_enthalpy[:, [iR1,iR2]]\n",
    "ds0 = states.delta_standard_entropy[:, [iR1,iR2]]\n",
    "Kc = states.equilibrium_constants[:, [iR1,iR2]]\n",
    "Kc.shape"
   ]
  },
  {
   "cell_type": "code",
   "execution_count": null,
   "id": "76629762",
   "metadata": {},
   "outputs": [],
   "source": [
    "fig, ax = plt.subplots(1,2)\n",
    "ax[0].plot(T, dh0)\n",
    "ax[1].plot(T, ds0)\n",
    "ax[0].legend([R1.equation, R2.equation])"
   ]
  },
  {
   "cell_type": "code",
   "execution_count": null,
   "id": "b1f53a89",
   "metadata": {},
   "outputs": [],
   "source": [
    "fig, ax = plt.subplots()\n",
    "ax.semilogy(T, Kc)"
   ]
  }
 ],
 "metadata": {
  "jupytext": {
   "cell_metadata_filter": "-all",
   "main_language": "python",
   "notebook_metadata_filter": "-all"
  },
  "kernelspec": {
   "display_name": "default",
   "language": "python",
   "name": "python3"
  },
  "language_info": {
   "codemirror_mode": {
    "name": "ipython",
    "version": 3
   },
   "file_extension": ".py",
   "mimetype": "text/x-python",
   "name": "python",
   "nbconvert_exporter": "python",
   "pygments_lexer": "ipython3",
   "version": "3.13.2"
  }
 },
 "nbformat": 4,
 "nbformat_minor": 5
}
