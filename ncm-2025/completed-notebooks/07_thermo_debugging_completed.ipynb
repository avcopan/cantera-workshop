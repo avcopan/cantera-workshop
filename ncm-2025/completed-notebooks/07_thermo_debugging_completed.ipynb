{
 "cells": [
  {
   "cell_type": "code",
   "execution_count": null,
   "id": "d113228e",
   "metadata": {},
   "outputs": [],
   "source": [
    "import cantera as ct\n",
    "import numpy as np\n",
    "\n",
    "%matplotlib widget\n",
    "import matplotlib.pyplot as plt\n",
    "plt.rcParams['figure.constrained_layout.use'] = True\n",
    "plt.rcParams['lines.linewidth'] = 2"
   ]
  },
  {
   "cell_type": "markdown",
   "id": "92df8e74",
   "metadata": {},
   "source": [
    "## Thermo Data"
   ]
  },
  {
   "cell_type": "markdown",
   "id": "3f46cc1b",
   "metadata": {},
   "source": [
    "When loading a YAML file, sometimes you will encounter warnings about discontinuities in the thermodynamic data."
   ]
  },
  {
   "cell_type": "code",
   "execution_count": null,
   "id": "b91fbf5e",
   "metadata": {},
   "outputs": [],
   "source": [
    "gas = ct.Solution('../inputs/mech_debug/mech.yaml')"
   ]
  },
  {
   "cell_type": "markdown",
   "id": "88868d75",
   "metadata": {},
   "source": [
    "These warnings are part of a validation check that Cantera does to make sure the thermodynamics data are consistent. In the standard NASA 14-coefficient polynomial form, the thermodynamics data are defined as two five coefficient polynomials (plus two other constants) over two temperature ranges. This is the form used for CHEMKIN files. The discontinuities occur when either the slope or the value of the thermodynamic functions ($c_p/R$, $h/(RT)$, or $s/R$) has a discontinuity at the mid-point temperature. Most commonly, one or more the discontinuities are due to incorrectly fit parameters, but they can also be caused by other means. Let's investigate."
   ]
  },
  {
   "cell_type": "code",
   "execution_count": null,
   "id": "9b8cc5eb",
   "metadata": {},
   "outputs": [],
   "source": [
    "ct.suppress_thermo_warnings()"
   ]
  },
  {
   "cell_type": "code",
   "execution_count": null,
   "id": "77cba404",
   "metadata": {},
   "outputs": [],
   "source": [
    "sp = gas.species('H2CNO')\n",
    "T = np.linspace(600, 2000, 200)\n",
    "f,ax = plt.subplots(1,3, figsize=(8,3.5))\n",
    "\n",
    "def plot_thermo(thermo):\n",
    "    h = [thermo.h(tt)/(ct.gas_constant * tt) for tt in T]\n",
    "    cp = [thermo.cp(tt)/ct.gas_constant for tt in T]\n",
    "    s = [thermo.s(tt)/ct.gas_constant for tt in T]\n",
    "    ax[0].plot(T,cp)\n",
    "    ax[0].set_title('$c_p/R$')\n",
    "    ax[1].plot(T,h)\n",
    "    ax[1].set_title('$h/RT$')\n",
    "    ax[2].plot(T,s)\n",
    "    ax[2].set_title('$s/R$')\n",
    "plot_thermo(sp.thermo)"
   ]
  },
  {
   "cell_type": "code",
   "execution_count": null,
   "id": "dfb50363",
   "metadata": {},
   "outputs": [],
   "source": [
    "c0 = sp.thermo.coeffs\n",
    "c0"
   ]
  },
  {
   "cell_type": "code",
   "execution_count": null,
   "id": "d00361c6",
   "metadata": {},
   "outputs": [],
   "source": [
    "c0[0] = 1200\n",
    "test = ct.NasaPoly2(sp.thermo.min_temp, sp.thermo.max_temp, sp.thermo.reference_pressure, c0)\n",
    "plot_thermo(test)"
   ]
  },
  {
   "cell_type": "code",
   "execution_count": null,
   "id": "d720adaa",
   "metadata": {},
   "outputs": [],
   "source": [
    "c0[0] = 1000\n",
    "test = ct.NasaPoly2(sp.thermo.min_temp, sp.thermo.max_temp, sp.thermo.reference_pressure, c0)\n",
    "plot_thermo(test)"
   ]
  },
  {
   "cell_type": "markdown",
   "id": "fef28729",
   "metadata": {},
   "source": [
    "In many cases, when the change is on the order of a few percent, these discontinuities won't cause problems. However, if you notice a simulation failing at a consistent temperature for several conditions, this is one possible cause."
   ]
  },
  {
   "cell_type": "markdown",
   "id": "8150ba04",
   "metadata": {},
   "source": [
    "## Reaction Rates"
   ]
  },
  {
   "cell_type": "markdown",
   "id": "8e7c6d2a",
   "metadata": {},
   "source": [
    "Another common issue with mechanisms are unphysical reaction rates (particularly reverse reaction rates). These unphysical reaction rates often exceed the collision limit for a given reaction. A recent(ish) study by [Chen et al.](https://www.sciencedirect.com/science/article/pii/S0010218017303024) found that\n",
    "\n",
    "> among.. 20 [recent] models tested, 15 of them contain either considerable numbers of rate coefficients that exceed their respective collision limits or reactions exceeding the collision limit in a considerable manner. In the worst case, the rate coefficient exceeds the collision limit by 73 orders of magnitude.\n",
    "\n",
    "The authors continue\n",
    "\n",
    "> It is proposed that computational tools should be made available for authors to conduct the same rate coefficient screening.\n",
    "\n",
    "Let's take a look at how Cantera can fill this need."
   ]
  },
  {
   "cell_type": "code",
   "execution_count": null,
   "id": "745b9afe",
   "metadata": {},
   "outputs": [],
   "source": [
    "gas.TPX = 300, 101325, 'CH4:1.0, O2:0.1'\n",
    "gas.equilibrate('TP')\n",
    "gas()"
   ]
  },
  {
   "cell_type": "code",
   "execution_count": null,
   "id": "1955010c",
   "metadata": {},
   "outputs": [],
   "source": [
    "f, ax = plt.subplots()\n",
    "ax.semilogy(gas.forward_rate_constants, '.', label='forward')\n",
    "ax.semilogy(gas.reverse_rate_constants, '.', label='reverse')\n",
    "ax.axis(ymin=1e-30)\n",
    "ax.legend();"
   ]
  },
  {
   "cell_type": "markdown",
   "id": "9a150f95",
   "metadata": {},
   "source": [
    "There are clearly several reverse rates with very high magnitudes. Let's print the reactions with reverse rate constants higher than $10^{20}$:"
   ]
  },
  {
   "cell_type": "code",
   "execution_count": null,
   "id": "8a15cf44",
   "metadata": {},
   "outputs": [],
   "source": [
    "kr = gas.reverse_rate_constants\n",
    "for i, k in enumerate(kr):\n",
    "    if k > 1e20:\n",
    "        print(f'{i:4d}  {k:.4e}  {gas.reaction(i).equation}')"
   ]
  },
  {
   "cell_type": "markdown",
   "id": "39a8144e",
   "metadata": {},
   "source": [
    "Among these is the reaction\n",
    "\n",
    "$$\\text{CH}_3 + \\text{M} <=> \\text{CH} + \\text{H}_2 + \\text{M}$$\n",
    "\n",
    "with reverse rate constant of `4.2656e+23`. This is a pretty common reaction, so we can compare to the same reaction from, for example, GRI 3.0:"
   ]
  },
  {
   "cell_type": "code",
   "execution_count": null,
   "id": "8686ce02",
   "metadata": {},
   "outputs": [],
   "source": [
    "gri = ct.Solution('gri30.yaml')\n",
    "for i, R in enumerate(gri.reactions()):\n",
    "    if 'CH3' in R and 'H2' in R and 'CH' in R:\n",
    "        print(i, R)"
   ]
  },
  {
   "cell_type": "markdown",
   "id": "b691af5d",
   "metadata": {},
   "source": [
    "The reaction is #295 from the first mechanism and #288 from GRI 3.0. We can calculate the rate of each reaction over a range of temperatures from 300 K to 3000 K and plot them."
   ]
  },
  {
   "cell_type": "code",
   "execution_count": null,
   "id": "6b07d734",
   "metadata": {},
   "outputs": [],
   "source": [
    "gasN = ct.SolutionArray(gas, shape=200)\n",
    "griN = ct.SolutionArray(gri, shape=200)\n",
    "T = np.linspace(300, 3000, 200)\n",
    "gasN.TPY = T, ct.one_atm, 'N2:1.0'\n",
    "griN.TPY = T, ct.one_atm, 'N2:1.0'\n",
    "\n",
    "f,ax = plt.subplots()\n",
    "ax.semilogy(1000/T, gasN.forward_rate_constants[:,295], label='mech, forward')\n",
    "ax.semilogy(1000/T, gasN.reverse_rate_constants[:,295], label='mech, reverse')\n",
    "ax.semilogy(1000/T, griN.forward_rate_constants[:,288], '--', label='GRI 3.0, forward')\n",
    "ax.semilogy(1000/T, griN.reverse_rate_constants[:,288], '--', label='GRI 3.0, reverse')\n",
    "T_label = np.array([300, 400, 500, 700, 1000, 2000])\n",
    "ax.set(xticks=1000/T_label, xticklabels=T_label, xlabel='Temperature (K)')\n",
    "ax.legend()\n",
    "ax.grid(True)"
   ]
  },
  {
   "cell_type": "markdown",
   "id": "1b065760",
   "metadata": {},
   "source": [
    "Here, we see that the rate of the reactions is close-ish at high temperature (>1000 K), but as the temperature decreases, they rapidly diverge and differ by 11 orders of magnitude at 300 K. This can cause problems in the integrator for both 0-D and 1-D problems, often accompanied by error messages about \"Repeated recoverable right-hand side errors\""
   ]
  }
 ],
 "metadata": {
  "jupytext": {
   "cell_metadata_filter": "-all",
   "main_language": "python",
   "notebook_metadata_filter": "-all"
  }
 },
 "nbformat": 4,
 "nbformat_minor": 5
}
