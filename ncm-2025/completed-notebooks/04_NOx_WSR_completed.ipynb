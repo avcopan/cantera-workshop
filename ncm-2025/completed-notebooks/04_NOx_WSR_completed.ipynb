{
 "cells": [
  {
   "cell_type": "code",
   "execution_count": null,
   "id": "42cfac08",
   "metadata": {},
   "outputs": [],
   "source": [
    "import numpy as np\n",
    "import matplotlib.pyplot as plt\n",
    "import cantera as ct\n",
    "print(ct.__file__)\n",
    "\n",
    "plt.rcParams['figure.constrained_layout.use'] = True\n",
    "%matplotlib widget"
   ]
  },
  {
   "cell_type": "code",
   "execution_count": null,
   "id": "5ce6ac73",
   "metadata": {},
   "outputs": [],
   "source": [
    "gas = ct.Solution('gri30.yaml')\n",
    "T = np.linspace(300, 2500, 500)\n",
    "states = ct.SolutionArray(gas, len(T))\n",
    "states.TPX = T, ct.one_atm, \"CO2:1.0, H2O:1.0, N2:3.76, O2:1.0\""
   ]
  },
  {
   "cell_type": "markdown",
   "id": "59641884",
   "metadata": {},
   "source": [
    "## NO$_x$ reaction rates"
   ]
  },
  {
   "cell_type": "code",
   "execution_count": null,
   "id": "c0ecbb6f",
   "metadata": {},
   "outputs": [],
   "source": [
    "for i, R in enumerate(gas.reactions()):\n",
    "    all_species = R.reactants | R.products\n",
    "    if 'N' in all_species and 'NO' in all_species:\n",
    "        print(i, R)"
   ]
  },
  {
   "cell_type": "code",
   "execution_count": null,
   "id": "b3378313",
   "metadata": {},
   "outputs": [],
   "source": [
    "iZ1 = 177\n",
    "iZ2 = 178\n",
    "states.equilibrate(\"TP\")"
   ]
  },
  {
   "cell_type": "code",
   "execution_count": null,
   "id": "969ca102",
   "metadata": {},
   "outputs": [],
   "source": [
    "fig, ax = plt.subplots()\n",
    "ax.plot(states.T, states.reverse_rates_of_progress[:, iZ1], label='R1')\n",
    "ax.plot(states.T, states.forward_rates_of_progress[:, iZ2], label='R2')\n",
    "ax.legend();"
   ]
  },
  {
   "cell_type": "markdown",
   "id": "e46af301",
   "metadata": {},
   "source": [
    "## Well stirred reactor with NOx\n",
    "\n",
    "<div>\n",
    "<center>\n",
    "<!-- <img src=\"attachment:d2223bec-96e3-4f07-8e46-d0450fcd6be5.png\", width=\"400\" /> -->\n",
    "    <img src=\"https://raw.githubusercontent.com/Cantera/cantera-jupyter/e738d0ef0fdd212a0b543d6eb2279572b42530a2/reactors/images/stirredReactorCartoon.png\" width=\"400\" style=\"background: white; border:5px solid white\"/>\n",
    "</center>\n",
    "</div>\n",
    "\n",
    "$$    m \\frac{dn_k}{dt} = V \\dot{\\omega}_k + \\sum_{in} \\dot{n}_{k, in} - \\sum_{out} \\dot{n}_{k, out} $$\n",
    "\n",
    "$$    \\left( \\sum_k n_k \\hat{c}_{p,k} \\right) \\frac{dT}{dt} =  - \\sum \\hat{u}_k \\dot{n}_k $$"
   ]
  },
  {
   "cell_type": "code",
   "execution_count": null,
   "id": "1ac16219",
   "metadata": {},
   "outputs": [],
   "source": [
    "gas.TPX = 1900, ct.one_atm, \"O2:1.0, N2:3.76, H2O:.01\"\n",
    "\n",
    "wsr = ct.IdealGasMoleReactor(gas)\n",
    "wsr.volume = 0.1\n",
    "upstream = ct.Reservoir(gas)\n",
    "downstream = ct.Reservoir(gas)\n",
    "inlet = ct.MassFlowController(upstream, wsr, mdot=10.0)\n",
    "outlet = ct.PressureController(wsr, downstream, primary=inlet)\n",
    "sim = ct.ReactorNet([wsr])"
   ]
  },
  {
   "cell_type": "code",
   "execution_count": null,
   "id": "3c7341e5",
   "metadata": {},
   "outputs": [],
   "source": [
    "states = ct.SolutionArray(gas, extra=['t'])\n",
    "tEnd = 0.01\n",
    "while sim.time < tEnd:\n",
    "    sim.step()\n",
    "    states.append(state=wsr.thermo.state, t=sim.time)"
   ]
  },
  {
   "cell_type": "code",
   "execution_count": null,
   "id": "d063eb58",
   "metadata": {},
   "outputs": [],
   "source": [
    "fig, ax = plt.subplots()\n",
    "ax.plot(states.t, states('NO').Y, '.-')"
   ]
  },
  {
   "cell_type": "code",
   "execution_count": null,
   "id": "16d20bfc",
   "metadata": {},
   "outputs": [],
   "source": [
    "def calc_nox(phi, mdot):\n",
    "    gas.TP = 300, ct.one_atm\n",
    "    gas.set_equivalence_ratio(phi, \"CH4:1.0\", \"N2:3.76, O2:1.0\")\n",
    "    Yf_in = gas[\"CH4\"].Y[0]\n",
    "    upstream = ct.Reservoir(gas)\n",
    "\n",
    "    gas.equilibrate(\"HP\")\n",
    "    wsr = ct.IdealGasMoleReactor(gas)\n",
    "    wsr.volume = 0.1\n",
    "    downstream = ct.Reservoir(gas)\n",
    "    inlet = ct.MassFlowController(upstream, wsr, mdot=mdot)\n",
    "    outlet = ct.PressureController(wsr, downstream, primary=inlet)\n",
    "    sim = ct.ReactorNet([wsr])\n",
    "\n",
    "    tEnd = 4.0\n",
    "    while sim.time < tEnd:\n",
    "        sim.step()\n",
    "\n",
    "    return wsr.thermo[\"NO\"].Y[0] / Yf_in"
   ]
  },
  {
   "cell_type": "code",
   "execution_count": null,
   "id": "cfc1d6d7",
   "metadata": {},
   "outputs": [],
   "source": [
    "fig, ax = plt.subplots()\n",
    "\n",
    "phi_in = np.linspace(0.5, 1.8, 60)\n",
    "mdot_in = np.logspace(-2, 2, 7)\n",
    "\n",
    "for mdot in mdot_in:\n",
    "    NOx = [calc_nox(phi, mdot) for phi in phi_in]\n",
    "    ax.plot(phi_in, NOx, label=r\"$\\dot{m} = \" + f\"{mdot:.2f}$ kg/s\")\n",
    "ax.legend();"
   ]
  },
  {
   "cell_type": "code",
   "execution_count": null,
   "id": "8afc843a",
   "metadata": {},
   "outputs": [],
   "source": []
  }
 ],
 "metadata": {
  "jupytext": {
   "cell_metadata_filter": "-all",
   "main_language": "python",
   "notebook_metadata_filter": "-all"
  }
 },
 "nbformat": 4,
 "nbformat_minor": 5
}
