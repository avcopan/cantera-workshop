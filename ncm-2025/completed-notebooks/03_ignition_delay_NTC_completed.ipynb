{
 "cells": [
  {
   "cell_type": "markdown",
   "id": "f7ae604a",
   "metadata": {},
   "source": [
    "## Batch Reactor Example\n",
    "### Ignition delay computation\n",
    "\n",
    "In this example we will illustrate how to setup and use a constant volume batch reactor. This reactor will then be used to compute the ignition delay of a gas at any temperature and pressure\n",
    "\n",
    "The reactor (system) is simply an insulated box."
   ]
  },
  {
   "cell_type": "code",
   "execution_count": 1,
   "id": "2f77cdb3",
   "metadata": {},
   "outputs": [
    {
     "name": "stdout",
     "output_type": "stream",
     "text": [
      "Using Cantera version 3.1.0\n"
     ]
    }
   ],
   "source": [
    "import numpy as np\n",
    "import matplotlib.pyplot as plt\n",
    "%matplotlib widget\n",
    "\n",
    "import cantera as ct\n",
    "print(f\"Using Cantera version {ct.__version__}\")"
   ]
  },
  {
   "cell_type": "markdown",
   "id": "8366e6cb",
   "metadata": {},
   "source": [
    "### Cantera Simulation Procedure\n",
    "\n",
    "In all Cantera simulations, there are three main steps:\n",
    "\n",
    "1. Create the phase object from an input file\n",
    "2. Set the initial/boundary conditions\n",
    "3. Run the simulation\n",
    "\n",
    "In the case of a batch reactor, Cantera includes several built-in reactor models to calculate the energy and species equations subject to either constant volume or constant pressure conditions."
   ]
  },
  {
   "cell_type": "markdown",
   "id": "20103bd8",
   "metadata": {},
   "source": [
    "#### Define the gas\n",
    "\n",
    "First, we have to define the phase.\n",
    "\n",
    "In this example we will choose n-heptane as the gas. For a representative kinetic model, we use the 160 species [mechanism](https://combustion.llnl.gov/archived-mechanisms/alkanes/heptane-reduced-mechanism) by [Seier et al. 2000, Proc. Comb. Inst](http://dx.doi.org/10.1016/S0082-0784&#40;00&#41;80610-4)."
   ]
  },
  {
   "cell_type": "code",
   "execution_count": 2,
   "id": "bdef3346",
   "metadata": {},
   "outputs": [
    {
     "name": "stdout",
     "output_type": "stream",
     "text": [
      "\n",
      "  gas:\n",
      "\n",
      "       temperature   300 K\n",
      "          pressure   1.0132e+05 Pa\n",
      "           density   1.138 kg/m^3\n",
      "  mean mol. weight   28.014 kg/kmol\n",
      "   phase of matter   gas\n",
      "\n",
      "                          1 kg             1 kmol     \n",
      "                     ---------------   ---------------\n",
      "          enthalpy              1971             55214  J\n",
      "   internal energy            -87068       -2.4391e+06  J\n",
      "           entropy            6842.7        1.9169e+05  J/K\n",
      "    Gibbs function       -2.0508e+06       -5.7452e+07  J\n",
      " heat capacity c_p            1037.9             29075  J/K\n",
      " heat capacity c_v            741.09             20761  J/K\n",
      "\n",
      "                      mass frac. Y      mole frac. X     chem. pot. / RT\n",
      "                     ---------------   ---------------   ---------------\n",
      "                n2                 1                 1           -23.033\n",
      "     [ +159 minor]                 0                 0  \n",
      "\n"
     ]
    },
    {
     "name": "stderr",
     "output_type": "stream",
     "text": [
      "/tmp/ipykernel_11326/1037159283.py:2: UserWarning: NasaPoly2::validate: \n",
      "For species c7h15o-1, discontinuity in h/RT detected at Tmid = 1391\n",
      "\tValue computed using low-temperature polynomial:  21.83428060093267\n",
      "\tValue computed using high-temperature polynomial: 21.76699500201913\n",
      "\n",
      "  gas = ct.Solution('../inputs/seiser.yaml')\n"
     ]
    }
   ],
   "source": [
    "# Define the gas mixture and kinetics\n",
    "gas = ct.Solution('../inputs/seiser.yaml')\n",
    "gas()"
   ]
  },
  {
   "cell_type": "markdown",
   "id": "56127ae9",
   "metadata": {},
   "source": [
    "#### Define reactor conditions: temperature, pressure, fuel, stoichiometry\n",
    "\n",
    "Next, we need to define initial conditions. We will choose a temperature of 1000 K, pressure of 1 atm, and equivalence ratio of 1.0. Remember to set the composition before the temperature and pressure."
   ]
  },
  {
   "cell_type": "code",
   "execution_count": null,
   "id": "ab48c9eb",
   "metadata": {},
   "outputs": [],
   "source": [
    "reactor_temperature = 1000 # Kelvin\n",
    "reactor_pressure = 101325 # Pascals\n",
    "\n",
    "gas.set_equivalence_ratio(phi=1.0, fuel=\"nc7h16\", oxidizer={\"o2\": 1.0, \"n2\": 3.76})\n",
    "gas.TP = reactor_temperature, reactor_pressure\n",
    "\n",
    "gas()"
   ]
  },
  {
   "cell_type": "markdown",
   "id": "f42e16d8",
   "metadata": {},
   "source": [
    "#### Run the simulation\n",
    "\n",
    "The third step in the process is usually the most complicated. Cantera provides 4 homogeneous reactor classes:\n",
    "\n",
    "| | Any Equation Of State | Ideal Gas Equation Of State |\n",
    "|-|-|-|\n",
    "| Constant Volume | `Reactor` | `IdealGasReactor` |\n",
    "| Constant Pressure | `ConstPressureReactor` | `IdealGasConstPressureReactor` |\n",
    "\n",
    "In this example, the fuel is an ideal gas and we want to model constant volume combustion, so we choose the `IdealGasReactor`."
   ]
  },
  {
   "cell_type": "code",
   "execution_count": null,
   "id": "94b4f3e8",
   "metadata": {},
   "outputs": [],
   "source": [
    "reactor = ct.IdealGasReactor(contents=gas)"
   ]
  },
  {
   "cell_type": "markdown",
   "id": "d539af6b",
   "metadata": {},
   "source": [
    "Cantera supports arbitrary _networks_ of reactors that can be connected together by flow control devices. The network of reactors has to be inserted into a `ReactorNetwork` to handle the integration. All of the `Reactor`s added to a `ReactorNetwork` are integrated simultaneously! In this case, we have only the one `reactor`."
   ]
  },
  {
   "cell_type": "code",
   "execution_count": null,
   "id": "cb2190c8",
   "metadata": {},
   "outputs": [],
   "source": [
    "reactor_network = ct.ReactorNet([reactor])"
   ]
  },
  {
   "cell_type": "markdown",
   "id": "bc5f7927",
   "metadata": {},
   "source": [
    "Last, we'd like a data structure to store the data from the time integration. Cantera has a useful data structure called the `SolutionArray` which is an array of `Solution` objects. `SolutionArray`s can also store \"extra\" data, such as the integration time."
   ]
  },
  {
   "cell_type": "code",
   "execution_count": null,
   "id": "448bf69b",
   "metadata": {},
   "outputs": [],
   "source": [
    "time_history = ct.SolutionArray(gas, extra=\"t\")"
   ]
  },
  {
   "cell_type": "markdown",
   "id": "a248c491",
   "metadata": {},
   "source": [
    "Now all the problem setup is done and we have to perform the integration. This is done by one of 3 methods:\n",
    "\n",
    "1. `step()`: Take one timestep, with the size determined by the CVODES integrator\n",
    "2. `advance(time)`: Take many adaptively-sized timesteps until the `time` is reached\n",
    "3. `advance_to_steady_state()`: Take many adaptively-sized timesteps until the system reaches steady state\n",
    "\n",
    "We will use `step()` here to record data at every time step so that we can have a good resolution to calculate the ignition delay. Integration proceeds until the reactor network time is greater than an estimated ignition delay time."
   ]
  },
  {
   "cell_type": "code",
   "execution_count": null,
   "id": "0754be99",
   "metadata": {
    "lines_to_next_cell": 2
   },
   "outputs": [],
   "source": [
    "# This is a starting estimate. If you do not get an ignition within this time, increase it\n",
    "estimated_ignition_delay_time = 0.1\n",
    "t = 0\n",
    "while t < estimated_ignition_delay_time:\n",
    "    # Take one step\n",
    "    t = reactor_network.step()\n",
    "    # Append the state of the reactor to the SolutionArray\n",
    "    time_history.append(reactor.thermo.state, t=t)"
   ]
  },
  {
   "cell_type": "markdown",
   "id": "c4ccc01a",
   "metadata": {},
   "source": [
    "Now we can use the integration data to determine the ignition delay. We will use the `\"oh\"` species to compute the ignition delay at the maximum mass fraction of this species. Using round parentheses with the `SolutionArray` returns data about the species that has been passed. From this, we can access the mass fraction with the `Y` attribute and then find the _index_ of the maximum of the mass fraction using `argmax()`. The index is then used to find the ignition delay time."
   ]
  },
  {
   "cell_type": "code",
   "execution_count": null,
   "id": "dd54aa5a",
   "metadata": {},
   "outputs": [],
   "source": [
    "reference_species = \"oh\"\n",
    "\n",
    "i_ign = time_history(reference_species).Y.argmax()\n",
    "tau = time_history.t[i_ign]\n",
    "\n",
    "print(f\"Computed Ignition Delay: {tau:.3e} seconds.\")"
   ]
  },
  {
   "cell_type": "markdown",
   "id": "2864a890",
   "metadata": {},
   "source": [
    "### Plot the result"
   ]
  },
  {
   "cell_type": "markdown",
   "id": "279b330e",
   "metadata": {},
   "source": [
    "#### Figure illustrating the definition of ignition delay"
   ]
  },
  {
   "cell_type": "code",
   "execution_count": null,
   "id": "8807256c",
   "metadata": {},
   "outputs": [],
   "source": [
    "fig, ax = plt.subplots()\n",
    "ax.plot(time_history.t, time_history(reference_species).Y, \"-o\")\n",
    "ax.set_xlabel(\"Time (s)\")\n",
    "ax.set_ylabel(\"$Y_{OH}$\")"
   ]
  },
  {
   "cell_type": "markdown",
   "id": "8fa734a5",
   "metadata": {},
   "source": [
    "### Illustration : NTC behavior\n",
    "\n",
    "A common benchmark for a reaction mechanism is its ability to reproduce the **N**egative **T**emperature **C**oefficient behavior. Intuitively, as the temperature of an explosive mixture increases, it should ignite faster. But, under certain conditions, we observe the opposite. This is referred to as NTC behavior. Reproducing experimentally observed NTC behavior is thus an important test for any mechanism. We will do this now by computing and visualizing the ignition delay for a wide range of temperatures"
   ]
  },
  {
   "cell_type": "markdown",
   "id": "2802c56e",
   "metadata": {},
   "source": [
    "#### Define the temperatures for which we will run the simulations\n",
    "\n",
    "Typical NTC behavior for n-heptane occurs from ~600-800 K, so we need to do an integration of the problem at temperatures in a wide range around those temperatures. We can use some functions from NumPy to make it easy to generate the temperatures we want."
   ]
  },
  {
   "cell_type": "code",
   "execution_count": null,
   "id": "d7d5802e",
   "metadata": {},
   "outputs": [],
   "source": [
    "T = np.hstack((np.arange(1800, 1000, -100), np.arange(1000, 475, -25)))"
   ]
  },
  {
   "cell_type": "markdown",
   "id": "b91170ad",
   "metadata": {},
   "source": [
    "As before, we will define some estimated ignition delay times to limit the integration time. These are chosen empirically and must be updated for different fuels or different conditions."
   ]
  },
  {
   "cell_type": "code",
   "execution_count": null,
   "id": "3e0ab74f",
   "metadata": {},
   "outputs": [],
   "source": [
    "estimated_ignition_delay_times = np.ones_like(T, dtype=float)\n",
    "\n",
    "estimated_ignition_delay_times[:6] = 0.1\n",
    "estimated_ignition_delay_times[-4:-2] = 10\n",
    "estimated_ignition_delay_times[-2:] = 100"
   ]
  },
  {
   "cell_type": "markdown",
   "id": "de4ce544",
   "metadata": {},
   "source": [
    "And last, we will create a `SolutionArray` to store the ignition delay results. This `SolutionArray` will only store the final result of calculating the ignition delay, not the time history of each simulation. In this case, we know that we want to have as many rows as the `T` array in our `SolutionArray`, so we can initialize it that way. Then we can set the initial conditions for the entire array of `Solution`s!"
   ]
  },
  {
   "cell_type": "code",
   "execution_count": null,
   "id": "e6ac11e5",
   "metadata": {},
   "outputs": [],
   "source": [
    "ignition_delays = ct.SolutionArray(gas, shape=T.shape, extra={\"tau\":estimated_ignition_delay_times})\n",
    "ignition_delays.set_equivalence_ratio(1.0, fuel=\"nc7h16\", oxidizer={\"o2\": 1.0,\"n2\": 3.76})\n",
    "ignition_delays.TP = T, reactor_pressure"
   ]
  },
  {
   "cell_type": "markdown",
   "id": "74f87386",
   "metadata": {},
   "source": [
    "Now, we can loop through these states and use them to set the state of the `gas` object, which we can use in the `IdealGasReactor` and do the integration again.\n",
    "\n",
    "This time, we'll only store the information we care about from the simulation, which are the time steps and the history of the reference species. We will use regular Python `list`s to store this information, since they are quite efficient when appending data rapidly.\n",
    "\n",
    "Then we will compute the ignition delay from this data and proceed to the next state!"
   ]
  },
  {
   "cell_type": "code",
   "execution_count": null,
   "id": "377066d6",
   "metadata": {},
   "outputs": [],
   "source": [
    "for i, state in enumerate(ignition_delays):\n",
    "    # Setup the gas and reactor\n",
    "    gas.TPX = state.TPX\n",
    "    r = ct.IdealGasReactor(contents=gas, name=\"Batch Reactor\")\n",
    "    reactor_network = ct.ReactorNet([r])\n",
    "    reference_species_history = []\n",
    "    time_history = []\n",
    "    t = 0\n",
    "    while t < estimated_ignition_delay_times[i]:\n",
    "        t = reactor_network.step()\n",
    "        time_history.append(t)\n",
    "        reference_species_history.append(gas[reference_species].X[0])\n",
    "    i_ign = np.array(reference_species_history).argmax()\n",
    "    tau = time_history[i_ign]\n",
    "    print(f\"Computed Ignition Delay: {tau:.3e} seconds for T={state.T:.0f} K.\")\n",
    "    ignition_delays[i].tau = tau\n",
    "print(\"Calculation complete!\")"
   ]
  },
  {
   "cell_type": "markdown",
   "id": "77c2435e",
   "metadata": {},
   "source": [
    "#### Figure: ignition delay ($\\tau$) vs. the inverse of temperature ($\\frac{1000}{T}$).\n",
    "\n",
    "Last, we will create an Arrhenius plot of the ignition delays."
   ]
  },
  {
   "cell_type": "code",
   "execution_count": null,
   "id": "595b514e",
   "metadata": {},
   "outputs": [],
   "source": [
    "fig = plt.figure()\n",
    "ax = fig.add_subplot(111)\n",
    "ax.semilogy(1000/ignition_delays.T, ignition_delays.tau, 'o-')\n",
    "ax.set_ylabel('Ignition Delay (s)')\n",
    "ax.set_xlabel(r'$\\frac{1000}{T (K)}$', fontsize=18)\n",
    "# Add a second axis on top to plot the temperature for better readability\n",
    "ax2 = ax.twiny()\n",
    "ticks = ax.get_xticks()\n",
    "ax2.set_xticks(ticks)\n",
    "ax2.set_xticklabels((1000/ticks).round(1))\n",
    "ax2.set_xlim(ax.get_xlim())\n",
    "ax2.set_xlabel(r'Temperature: $T(K)$')"
   ]
  }
 ],
 "metadata": {
  "jupytext": {
   "cell_metadata_filter": "-all",
   "main_language": "python",
   "notebook_metadata_filter": "-all"
  },
  "kernelspec": {
   "display_name": "default",
   "language": "python",
   "name": "python3"
  },
  "language_info": {
   "codemirror_mode": {
    "name": "ipython",
    "version": 3
   },
   "file_extension": ".py",
   "mimetype": "text/x-python",
   "name": "python",
   "nbconvert_exporter": "python",
   "pygments_lexer": "ipython3",
   "version": "3.13.2"
  }
 },
 "nbformat": 4,
 "nbformat_minor": 5
}
