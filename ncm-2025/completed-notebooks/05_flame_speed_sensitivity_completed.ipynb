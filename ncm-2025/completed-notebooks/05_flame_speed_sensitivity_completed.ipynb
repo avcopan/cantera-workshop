{
 "cells": [
  {
   "cell_type": "markdown",
   "id": "f408792a",
   "metadata": {},
   "source": [
    "## Flame Speed"
   ]
  },
  {
   "cell_type": "markdown",
   "id": "3e219c57",
   "metadata": {},
   "source": [
    "In this example we simulate a freely-propagating, adiabatic, 1-D flame and\n",
    "* Calculate its laminar burning velocity\n",
    "* Perform a sensitivity analysis of its kinetics\n",
    "\n",
    "The figure below illustrates the setup, in a flame-fixed co-ordinate system. The reactants enter with density $\\rho_{u}$, temperature $T_{u}$ and speed $S_{u}$. The products exit the flame at speed $S_{b}$, density $\\rho_{b}$ and temperature $T_{b}$."
   ]
  },
  {
   "cell_type": "markdown",
   "id": "d10271ce",
   "metadata": {},
   "source": [
    "<img src=\"https://github.com/Cantera/workshop-materials/blob/ncm-2025/ncm-2025/images/flameSpeed.png?raw=true\" alt=\"Freely Propagating Flame\" style=\"width: 300px; background: white; border:5px solid white\"/>"
   ]
  },
  {
   "cell_type": "markdown",
   "id": "d90b78f9",
   "metadata": {},
   "source": [
    "#### Import Modules"
   ]
  },
  {
   "cell_type": "code",
   "execution_count": null,
   "id": "cc3b4af4",
   "metadata": {},
   "outputs": [],
   "source": [
    "import cantera as ct\n",
    "import numpy as np\n",
    "import pandas as pd\n",
    "\n",
    "%matplotlib inline\n",
    "import matplotlib.pyplot as plt\n",
    "plt.rcParams['figure.constrained_layout.use'] = True\n",
    "plt.rcParams['lines.linewidth'] = 2\n",
    "\n",
    "print(f\"Running Cantera version {ct.__version__}\")"
   ]
  },
  {
   "cell_type": "markdown",
   "id": "2a7d0c24",
   "metadata": {},
   "source": [
    "#### Define the reactant conditions, gas mixture and kinetic mechanism associated with the gas"
   ]
  },
  {
   "cell_type": "code",
   "execution_count": null,
   "id": "10a0b78c",
   "metadata": {},
   "outputs": [],
   "source": [
    "# Define the gas mixture and kinetics\n",
    "# In this case, we are choosing a modified version of GRI 3.0\n",
    "# gas = ct.Solution('input-files/gri30_noNOx.yaml')\n",
    "gas = ct.Solution('gri30.yaml')"
   ]
  },
  {
   "cell_type": "markdown",
   "id": "bf6c2469",
   "metadata": {},
   "source": [
    "#### Define flame simulation conditions"
   ]
  },
  {
   "cell_type": "code",
   "execution_count": null,
   "id": "75dfed69",
   "metadata": {},
   "outputs": [],
   "source": [
    "# Inlet temperature in kelvin and inlet pressure in pascal\n",
    "To = 300\n",
    "Po = 101325\n",
    "\n",
    "# Domain width in meters\n",
    "width = 0.02\n",
    "\n",
    "# Set the inlet mixture to be stoichiometric CH4 and air\n",
    "gas.set_equivalence_ratio(1.0, 'CH4', {'O2':1.0, 'N2':3.76})\n",
    "gas.TP = To, Po\n",
    "\n",
    "# Create the flame object\n",
    "flame = ct.FreeFlame(gas, width=width)\n",
    "\n",
    "# Set options for the solver\n",
    "flame.transport_model = 'mixture-averaged'\n",
    "flame.set_refine_criteria(ratio=3, slope=0.1, curve=0.1)\n",
    "\n",
    "# Define logging level\n",
    "loglevel = 1"
   ]
  },
  {
   "cell_type": "markdown",
   "id": "dd490d8b",
   "metadata": {},
   "source": [
    "#### Solve"
   ]
  },
  {
   "cell_type": "markdown",
   "id": "2f3609fb",
   "metadata": {},
   "source": [
    "The `auto` option in the solve function tries to \"automatically\" solve the flame by applying a few common techniques. First, the flame is solved on a sparse grid with the transport calculations set to mixture averaged. Then grid refinement is enabled, with points added according to the values of the `ratio`, `slope`, and `curve` parameters in the `set_refine_criteria` function. If the initial solve on the sparse grid fails to converge, the simulation is attempted again, but this time with the energy equation disabled. Once the simulation has been solved on the refined grid with the mixture averaged transport, Cantera enables the multicomponent transport and Soret diffusion, if they have been set by the user.\n",
    "\n",
    "In general, it is recommended that you use the `auto` option the first time you run the solver, unless the simulation fails. On subsequent invocations of `solve`, you should not include the `auto` option (or set it to `False`)."
   ]
  },
  {
   "cell_type": "code",
   "execution_count": null,
   "id": "6eb26259",
   "metadata": {},
   "outputs": [],
   "source": [
    "flame.solve(loglevel=loglevel, auto=True)"
   ]
  },
  {
   "cell_type": "code",
   "execution_count": null,
   "id": "0ce89cfa",
   "metadata": {},
   "outputs": [],
   "source": [
    "Su0 = flame.velocity[0]\n",
    "print(\"Flame Speed is: {:.2f} cm/s\".format(Su0*100))\n",
    "flame.show_stats()"
   ]
  },
  {
   "cell_type": "markdown",
   "id": "425687a1",
   "metadata": {},
   "source": [
    "#### Plot figures\n",
    "\n",
    "Check and see if all has gone well. Plot temperature and species fractions to see. We expect that the solution at the boundaries of the domain will have zero gradient (in other words, that the domain width that we specified is wide enough for the flame)."
   ]
  },
  {
   "cell_type": "markdown",
   "id": "9ec93ccc",
   "metadata": {},
   "source": [
    "##### Temperature Plot"
   ]
  },
  {
   "cell_type": "code",
   "execution_count": null,
   "id": "15c1db79",
   "metadata": {},
   "outputs": [],
   "source": [
    "%matplotlib inline\n",
    "f, ax = plt.subplots(1, 1)\n",
    "ax.plot(flame.grid*100, flame.T)\n",
    "ax.set(xlabel='Distance (cm)', ylabel='Temperature (K)');\n",
    "# note domain size is not what we originally set -- automatically expanded to satisfy boundary conditions"
   ]
  },
  {
   "cell_type": "markdown",
   "id": "cd0d929f",
   "metadata": {},
   "source": [
    "##### Major species' plot"
   ]
  },
  {
   "cell_type": "code",
   "execution_count": null,
   "id": "fb07d50a",
   "metadata": {},
   "outputs": [],
   "source": [
    "profile = ct.SolutionArray(gas, shape=len(flame.grid), extra={'z': flame.grid*100})\n",
    "profile.TPY = flame.T, flame.P, flame.Y.T\n",
    "\n",
    "f, ax = plt.subplots(1, 1)\n",
    "ax.plot(profile.z, profile('CH4').X, label=r'CH$_4$')\n",
    "ax.plot(profile.z, profile('O2').X, label=r'O$_2$')\n",
    "ax.plot(profile.z, profile('CO2').X, label=r'CO$_2$')\n",
    "plt.plot(profile.z, profile('H2O').X, label=r'H$_2$O')\n",
    "ax.legend()\n",
    "ax.set(xlabel='Distance (cm)', ylabel='Mole fraction');"
   ]
  },
  {
   "cell_type": "markdown",
   "id": "905fe4d9",
   "metadata": {},
   "source": [
    "### Sensitivity analysis\n",
    "Compute normalized sensitivities of flame speed $S_u$ to changes in the rate coefficient $k_i$ for each reaction\n",
    "$$s_i = \\frac{k_i}{S_u} \\frac{d S_u}{d k_i} $$\n",
    "\n",
    "See details about the adjoint method for flame speed sensitivity at https://cantera.org/3.1/examples/python/onedim/flamespeed_sensitivity.html."
   ]
  },
  {
   "cell_type": "code",
   "execution_count": null,
   "id": "75b1b6ee",
   "metadata": {},
   "outputs": [],
   "source": [
    "# Create a DataFrame to store sensitivity-analysis data\n",
    "sens = pd.DataFrame(index=gas.reaction_equations(), columns=[\"sensitivity\"])\n",
    "\n",
    "# Use the adjoint method to calculate sensitivities\n",
    "sens.sensitivity = flame.get_flame_speed_reaction_sensitivities()\n",
    "\n",
    "# Show the first 10 sensitivities\n",
    "sens.head(10)"
   ]
  },
  {
   "cell_type": "code",
   "execution_count": null,
   "id": "fb62cbe8",
   "metadata": {},
   "outputs": [],
   "source": [
    "# Sort the sensitivities in order of descending magnitude\n",
    "sens = sens.iloc[(-sens['sensitivity'].abs()).argsort()]\n",
    "\n",
    "fig, ax = plt.subplots()\n",
    "\n",
    "# Reaction mechanisms can contains thousands of elementary steps. Limit the plot\n",
    "# to the top 15\n",
    "sens.head(15).plot.barh(ax=ax, legend=None)\n",
    "\n",
    "ax.invert_yaxis()  # put the largest sensitivity on top\n",
    "ax.set_title(\"Sensitivities for GRI 3.0\")\n",
    "ax.set_xlabel(r\"Sensitivity: $\\frac{\\partial\\:\\ln S_u}{\\partial\\:\\ln k}$\")\n",
    "ax.grid(axis='x')"
   ]
  },
  {
   "cell_type": "markdown",
   "id": "1ded7f2b",
   "metadata": {},
   "source": [
    "### Solving multiple flames (parameter sweep)"
   ]
  },
  {
   "cell_type": "code",
   "execution_count": null,
   "id": "02031393",
   "metadata": {},
   "outputs": [],
   "source": [
    "# Start  at one limit of the equivalence ratio range\n",
    "gas.set_equivalence_ratio(0.6, 'CH4', {'O2':1.0, 'N2':3.76})\n",
    "gas.TP = To, Po\n",
    "\n",
    "flame = ct.FreeFlame(gas, width=width)\n",
    "\n",
    "# Enabling pruning is important to avoid continuous increase in grid size\n",
    "flame.set_refine_criteria(ratio=3, slope=0.15, curve=0.15, prune=0.1)\n",
    "flame.solve(loglevel=0, refine_grid=True, auto=True)"
   ]
  },
  {
   "cell_type": "code",
   "execution_count": null,
   "id": "2ed54e9d",
   "metadata": {},
   "outputs": [],
   "source": [
    "phis = np.linspace(0.6, 1.8, 50)\n",
    "Su = []\n",
    "\n",
    "for phi in phis:\n",
    "    gas.set_equivalence_ratio(phi, 'CH4', {'O2':1.0, 'N2':3.76})\n",
    "    flame.inlet.Y = gas.Y\n",
    "    flame.solve(loglevel=0)\n",
    "    print(f'phi = {phi:.3f}: Su = {flame.velocity[0]*100:5.2f} cm/s, N = {len(flame.grid)}')\n",
    "    Su.append(flame.velocity[0])"
   ]
  },
  {
   "cell_type": "code",
   "execution_count": null,
   "id": "f3bd0a7f",
   "metadata": {},
   "outputs": [],
   "source": [
    "f, ax = plt.subplots(1, 1)\n",
    "ax.plot(phis, Su)\n",
    "ax.set(xlabel='equivalence ratio', ylabel='flame speed (m/s)');"
   ]
  }
 ],
 "metadata": {
  "jupytext": {
   "cell_metadata_filter": "-all",
   "main_language": "python",
   "notebook_metadata_filter": "-all"
  }
 },
 "nbformat": 4,
 "nbformat_minor": 5
}
