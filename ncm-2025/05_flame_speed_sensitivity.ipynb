{
 "cells": [
  {
   "cell_type": "markdown",
   "id": "86c9f71d",
   "metadata": {},
   "source": [
    "## Flame Speed"
   ]
  },
  {
   "cell_type": "markdown",
   "id": "caf766da",
   "metadata": {},
   "source": [
    "In this example we simulate a freely-propagating, adiabatic, 1-D flame and\n",
    "* Calculate its laminar burning velocity\n",
    "* Perform a sensitivity analysis of its kinetics\n",
    "\n",
    "The figure below illustrates the setup, in a flame-fixed co-ordinate system. The reactants enter with density $\\rho_{u}$, temperature $T_{u}$ and speed $S_{u}$. The products exit the flame at speed $S_{b}$, density $\\rho_{b}$ and temperature $T_{b}$."
   ]
  },
  {
   "cell_type": "markdown",
   "id": "578aefad",
   "metadata": {},
   "source": [
    "<img src=\"https://github.com/Cantera/workshop-materials/blob/ncm-2025/ncm-2025/images/flameSpeed.png?raw=true\" alt=\"Freely Propagating Flame\" style=\"width: 300px; background: white; border:5px solid white\"/>"
   ]
  },
  {
   "cell_type": "markdown",
   "id": "270de87c",
   "metadata": {},
   "source": [
    "#### Import Modules"
   ]
  },
  {
   "cell_type": "code",
   "execution_count": null,
   "id": "55ef7ec3",
   "metadata": {},
   "outputs": [],
   "source": [
    "import cantera as ct\n",
    "import numpy as np\n",
    "import pandas as pd\n",
    "\n",
    "%matplotlib inline\n",
    "import matplotlib.pyplot as plt\n",
    "plt.rcParams['figure.constrained_layout.use'] = True\n",
    "plt.rcParams['lines.linewidth'] = 2\n",
    "\n",
    "print(f\"Running Cantera version {ct.__version__}\")"
   ]
  },
  {
   "cell_type": "markdown",
   "id": "88576243",
   "metadata": {},
   "source": [
    "#### Define the reactant conditions, gas mixture and kinetic mechanism associated with the gas"
   ]
  },
  {
   "cell_type": "code",
   "execution_count": null,
   "id": "c9ab23b6",
   "metadata": {},
   "outputs": [],
   "source": []
  },
  {
   "cell_type": "markdown",
   "id": "8634166b",
   "metadata": {},
   "source": [
    "#### Define flame simulation conditions"
   ]
  },
  {
   "cell_type": "code",
   "execution_count": null,
   "id": "53e374bd",
   "metadata": {},
   "outputs": [],
   "source": []
  },
  {
   "cell_type": "markdown",
   "id": "b454fbfe",
   "metadata": {},
   "source": [
    "#### Solve"
   ]
  },
  {
   "cell_type": "markdown",
   "id": "a7fd673a",
   "metadata": {},
   "source": [
    "The `auto` option in the solve function tries to \"automatically\" solve the flame by applying a few common techniques. First, the flame is solved on a sparse grid with the transport calculations set to mixture averaged. Then grid refinement is enabled, with points added according to the values of the `ratio`, `slope`, and `curve` parameters in the `set_refine_criteria` function. If the initial solve on the sparse grid fails to converge, the simulation is attempted again, but this time with the energy equation disabled. Once the simulation has been solved on the refined grid with the mixture averaged transport, Cantera enables the multicomponent transport and Soret diffusion, if they have been set by the user.\n",
    "\n",
    "In general, it is recommended that you use the `auto` option the first time you run the solver, unless the simulation fails. On subsequent invocations of `solve`, you should not include the `auto` option (or set it to `False`)."
   ]
  },
  {
   "cell_type": "code",
   "execution_count": null,
   "id": "133624e1",
   "metadata": {},
   "outputs": [],
   "source": []
  },
  {
   "cell_type": "code",
   "execution_count": null,
   "id": "576db693",
   "metadata": {},
   "outputs": [],
   "source": []
  },
  {
   "cell_type": "markdown",
   "id": "2fcfcf82",
   "metadata": {},
   "source": [
    "#### Plot figures\n",
    "\n",
    "Check and see if all has gone well. Plot temperature and species fractions to see. We expect that the solution at the boundaries of the domain will have zero gradient (in other words, that the domain width that we specified is wide enough for the flame)."
   ]
  },
  {
   "cell_type": "markdown",
   "id": "df09db77",
   "metadata": {},
   "source": [
    "##### Temperature Plot"
   ]
  },
  {
   "cell_type": "code",
   "execution_count": null,
   "id": "56df8bbf",
   "metadata": {},
   "outputs": [],
   "source": []
  },
  {
   "cell_type": "markdown",
   "id": "7660bc43",
   "metadata": {},
   "source": [
    "##### Major species' plot"
   ]
  },
  {
   "cell_type": "code",
   "execution_count": null,
   "id": "460cf790",
   "metadata": {},
   "outputs": [],
   "source": []
  },
  {
   "cell_type": "markdown",
   "id": "8a15ecc6",
   "metadata": {},
   "source": [
    "### Sensitivity analysis\n",
    "Compute normalized sensitivities of flame speed $S_u$ to changes in the rate coefficient $k_i$ for each reaction\n",
    "$$s_i = \\frac{k_i}{S_u} \\frac{d S_u}{d k_i} $$\n",
    "\n",
    "See details about the adjoint method for flame speed sensitivity at https://cantera.org/3.1/examples/python/onedim/flamespeed_sensitivity.html."
   ]
  },
  {
   "cell_type": "code",
   "execution_count": null,
   "id": "c83cd5e1",
   "metadata": {},
   "outputs": [],
   "source": []
  },
  {
   "cell_type": "code",
   "execution_count": null,
   "id": "c1f0e52c",
   "metadata": {},
   "outputs": [],
   "source": []
  },
  {
   "cell_type": "markdown",
   "id": "6fecb813",
   "metadata": {},
   "source": [
    "### Solving multiple flames (parameter sweep)"
   ]
  },
  {
   "cell_type": "code",
   "execution_count": null,
   "id": "f76bf08d",
   "metadata": {},
   "outputs": [],
   "source": []
  },
  {
   "cell_type": "code",
   "execution_count": null,
   "id": "42251eef",
   "metadata": {},
   "outputs": [],
   "source": []
  },
  {
   "cell_type": "code",
   "execution_count": null,
   "id": "2487c087",
   "metadata": {},
   "outputs": [],
   "source": []
  },
  {
   "cell_type": "code",
   "execution_count": null,
   "id": "36b65602",
   "metadata": {},
   "outputs": [],
   "source": []
  }
 ],
 "metadata": {
  "jupytext": {
   "cell_metadata_filter": "-all",
   "main_language": "python",
   "notebook_metadata_filter": "-all"
  }
 },
 "nbformat": 4,
 "nbformat_minor": 5
}
