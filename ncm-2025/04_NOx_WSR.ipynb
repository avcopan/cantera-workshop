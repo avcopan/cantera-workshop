{
 "cells": [
  {
   "cell_type": "code",
   "execution_count": null,
   "id": "108efa66",
   "metadata": {},
   "outputs": [],
   "source": [
    "import numpy as np\n",
    "import matplotlib.pyplot as plt\n",
    "import cantera as ct\n",
    "print(ct.__file__)\n",
    "\n",
    "plt.rcParams['figure.constrained_layout.use'] = True\n",
    "%matplotlib widget"
   ]
  },
  {
   "cell_type": "code",
   "execution_count": null,
   "id": "d4e55e4b",
   "metadata": {},
   "outputs": [],
   "source": []
  },
  {
   "cell_type": "markdown",
   "id": "e7f16d96",
   "metadata": {},
   "source": [
    "## NO$_x$ reaction rates"
   ]
  },
  {
   "cell_type": "code",
   "execution_count": null,
   "id": "24a0c8bf",
   "metadata": {},
   "outputs": [],
   "source": []
  },
  {
   "cell_type": "code",
   "execution_count": null,
   "id": "9d10f576",
   "metadata": {},
   "outputs": [],
   "source": []
  },
  {
   "cell_type": "code",
   "execution_count": null,
   "id": "acbc72f8",
   "metadata": {},
   "outputs": [],
   "source": []
  },
  {
   "cell_type": "markdown",
   "id": "ff9bb1b6",
   "metadata": {},
   "source": [
    "## Well stirred reactor with NOx\n",
    "\n",
    "<div>\n",
    "<center>\n",
    "<!-- <img src=\"attachment:d2223bec-96e3-4f07-8e46-d0450fcd6be5.png\", width=\"400\" /> -->\n",
    "    <img src=\"https://raw.githubusercontent.com/Cantera/cantera-jupyter/e738d0ef0fdd212a0b543d6eb2279572b42530a2/reactors/images/stirredReactorCartoon.png\" width=\"400\" style=\"background: white; border:5px solid white\"/>\n",
    "</center>\n",
    "</div>\n",
    "\n",
    "$$    m \\frac{dn_k}{dt} = V \\dot{\\omega}_k + \\sum_{in} \\dot{n}_{k, in} - \\sum_{out} \\dot{n}_{k, out} $$\n",
    "\n",
    "$$    \\left( \\sum_k n_k \\hat{c}_{p,k} \\right) \\frac{dT}{dt} =  - \\sum \\hat{u}_k \\dot{n}_k $$"
   ]
  },
  {
   "cell_type": "code",
   "execution_count": null,
   "id": "e3c3284e",
   "metadata": {},
   "outputs": [],
   "source": []
  },
  {
   "cell_type": "code",
   "execution_count": null,
   "id": "bf64e14d",
   "metadata": {},
   "outputs": [],
   "source": []
  },
  {
   "cell_type": "code",
   "execution_count": null,
   "id": "5378d6e0",
   "metadata": {},
   "outputs": [],
   "source": []
  },
  {
   "cell_type": "code",
   "execution_count": null,
   "id": "2b97825c",
   "metadata": {},
   "outputs": [],
   "source": []
  },
  {
   "cell_type": "code",
   "execution_count": null,
   "id": "174370c9",
   "metadata": {},
   "outputs": [],
   "source": []
  },
  {
   "cell_type": "code",
   "execution_count": null,
   "id": "b3d9883c",
   "metadata": {},
   "outputs": [],
   "source": []
  }
 ],
 "metadata": {
  "jupytext": {
   "cell_metadata_filter": "-all",
   "main_language": "python",
   "notebook_metadata_filter": "-all"
  }
 },
 "nbformat": 4,
 "nbformat_minor": 5
}
