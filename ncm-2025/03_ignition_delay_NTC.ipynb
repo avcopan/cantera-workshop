{
 "cells": [
  {
   "cell_type": "markdown",
   "id": "349c8849",
   "metadata": {},
   "source": [
    "## Batch Reactor Example\n",
    "### Ignition delay computation\n",
    "\n",
    "In this example we will illustrate how to setup and use a constant volume batch reactor. This reactor will then be used to compute the ignition delay of a gas at any temperature and pressure\n",
    "\n",
    "The reactor (system) is simply an insulated box."
   ]
  },
  {
   "cell_type": "code",
   "execution_count": 1,
   "id": "4b8d7279",
   "metadata": {},
   "outputs": [
    {
     "name": "stdout",
     "output_type": "stream",
     "text": [
      "Using Cantera version 3.1.0\n"
     ]
    }
   ],
   "source": [
    "import numpy as np\n",
    "import matplotlib.pyplot as plt\n",
    "%matplotlib widget\n",
    "\n",
    "import cantera as ct\n",
    "print(f\"Using Cantera version {ct.__version__}\")"
   ]
  },
  {
   "cell_type": "markdown",
   "id": "83afcb1b",
   "metadata": {},
   "source": [
    "### Cantera Simulation Procedure\n",
    "\n",
    "In all Cantera simulations, there are three main steps:\n",
    "\n",
    "1. Create the phase object from an input file\n",
    "2. Set the initial/boundary conditions\n",
    "3. Run the simulation\n",
    "\n",
    "In the case of a batch reactor, Cantera includes several built-in reactor models to calculate the energy and species equations subject to either constant volume or constant pressure conditions."
   ]
  },
  {
   "cell_type": "markdown",
   "id": "42293967",
   "metadata": {},
   "source": [
    "#### Define the gas\n",
    "\n",
    "First, we have to define the phase.\n",
    "\n",
    "In this example we will choose n-heptane as the gas. For a representative kinetic model, we use the 160 species [mechanism](https://combustion.llnl.gov/archived-mechanisms/alkanes/heptane-reduced-mechanism) by [Seier et al. 2000, Proc. Comb. Inst](http://dx.doi.org/10.1016/S0082-0784&#40;00&#41;80610-4)."
   ]
  },
  {
   "cell_type": "code",
   "execution_count": 2,
   "id": "981b6731",
   "metadata": {},
   "outputs": [
    {
     "name": "stdout",
     "output_type": "stream",
     "text": [
      "\n",
      "  gas:\n",
      "\n",
      "       temperature   300 K\n",
      "          pressure   1.0132e+05 Pa\n",
      "           density   1.138 kg/m^3\n",
      "  mean mol. weight   28.014 kg/kmol\n",
      "   phase of matter   gas\n",
      "\n",
      "                          1 kg             1 kmol     \n",
      "                     ---------------   ---------------\n",
      "          enthalpy              1971             55214  J\n",
      "   internal energy            -87068       -2.4391e+06  J\n",
      "           entropy            6842.7        1.9169e+05  J/K\n",
      "    Gibbs function       -2.0508e+06       -5.7452e+07  J\n",
      " heat capacity c_p            1037.9             29075  J/K\n",
      " heat capacity c_v            741.09             20761  J/K\n",
      "\n",
      "                      mass frac. Y      mole frac. X     chem. pot. / RT\n",
      "                     ---------------   ---------------   ---------------\n",
      "                n2                 1                 1           -23.033\n",
      "     [ +159 minor]                 0                 0  \n",
      "\n"
     ]
    },
    {
     "name": "stderr",
     "output_type": "stream",
     "text": [
      "/tmp/ipykernel_11598/4277635587.py:2: UserWarning: NasaPoly2::validate: \n",
      "For species c7h15o-1, discontinuity in h/RT detected at Tmid = 1391\n",
      "\tValue computed using low-temperature polynomial:  21.83428060093267\n",
      "\tValue computed using high-temperature polynomial: 21.76699500201913\n",
      "\n",
      "  gas = ct.Solution('inputs/seiser.yaml')\n"
     ]
    }
   ],
   "source": [
    "# Define the gas mixture and kinetics\n",
    "gas = ct.Solution('inputs/seiser.yaml')\n",
    "gas()"
   ]
  },
  {
   "cell_type": "markdown",
   "id": "3ac5f102",
   "metadata": {},
   "source": [
    "#### Define reactor conditions: temperature, pressure, fuel, stoichiometry\n",
    "\n",
    "Next, we need to define initial conditions. We will choose a temperature of 1000 K, pressure of 1 atm, and equivalence ratio of 1.0. Remember to set the composition before the temperature and pressure."
   ]
  },
  {
   "cell_type": "code",
   "execution_count": 4,
   "id": "e096896b",
   "metadata": {},
   "outputs": [
    {
     "name": "stdout",
     "output_type": "stream",
     "text": [
      "\n",
      "  gas:\n",
      "\n",
      "       temperature   1000 K\n",
      "          pressure   1.0132e+05 Pa\n",
      "           density   0.36789 kg/m^3\n",
      "  mean mol. weight   30.188 kg/kmol\n",
      "   phase of matter   gas\n",
      "\n",
      "                          1 kg             1 kmol     \n",
      "                     ---------------   ---------------\n",
      "          enthalpy        7.1647e+05        2.1629e+07  J\n",
      "   internal energy        4.4105e+05        1.3314e+07  J\n",
      "           entropy              8152        2.4609e+05  J/K\n",
      "    Gibbs function       -7.4355e+06       -2.2447e+08  J\n",
      " heat capacity c_p            1316.7             39749  J/K\n",
      " heat capacity c_v            1041.3             31434  J/K\n",
      "\n",
      "                      mass frac. Y      mole frac. X     chem. pot. / RT\n",
      "                     ---------------   ---------------   ---------------\n",
      "                n2           0.71929           0.77511           -25.105\n",
      "                o2           0.21851           0.20615           -28.134\n",
      "            nc7h16          0.062207          0.018741           -92.735\n",
      "     [ +157 minor]                 0                 0  \n",
      "\n"
     ]
    }
   ],
   "source": [
    "reactor_temperature = 1000 # Kelvin\n",
    "reactor_pressure = ct.one_atm # Pascals\n",
    "\n",
    "gas.set_equivalence_ratio(phi=1.0, fuel=\"nc7h16\", oxidizer={\"o2\": 1.0, \"n2\": 3.76})\n",
    "gas.TP = reactor_temperature, reactor_pressure\n",
    "\n",
    "gas()"
   ]
  },
  {
   "cell_type": "markdown",
   "id": "190b6f1b",
   "metadata": {},
   "source": [
    "#### Run the simulation\n",
    "\n",
    "The third step in the process is usually the most complicated. Cantera provides 4 homogeneous reactor classes:\n",
    "\n",
    "| | Any Equation Of State | Ideal Gas Equation Of State |\n",
    "|-|-|-|\n",
    "| Constant Volume | `Reactor` | `IdealGasReactor` |\n",
    "| Constant Pressure | `ConstPressureReactor` | `IdealGasConstPressureReactor` |\n",
    "\n",
    "In this example, the fuel is an ideal gas and we want to model constant volume combustion, so we choose the `IdealGasReactor`."
   ]
  },
  {
   "cell_type": "code",
   "execution_count": 5,
   "id": "0edbc640",
   "metadata": {},
   "outputs": [],
   "source": [
    "reactor = ct.IdealGasReactor(contents=gas)"
   ]
  },
  {
   "cell_type": "markdown",
   "id": "17df80b1",
   "metadata": {},
   "source": [
    "Cantera supports arbitrary _networks_ of reactors that can be connected together by flow control devices. The network of reactors has to be inserted into a `ReactorNetwork` to handle the integration. All of the `Reactor`s added to a `ReactorNetwork` are integrated simultaneously! In this case, we have only the one `reactor`."
   ]
  },
  {
   "cell_type": "code",
   "execution_count": 6,
   "id": "90a012eb",
   "metadata": {},
   "outputs": [],
   "source": [
    "reactor_network = ct.ReactorNet([reactor])"
   ]
  },
  {
   "cell_type": "markdown",
   "id": "807fc44d",
   "metadata": {},
   "source": [
    "Last, we'd like a data structure to store the data from the time integration. Cantera has a useful data structure called the `SolutionArray` which is an array of `Solution` objects. `SolutionArray`s can also store \"extra\" data, such as the integration time."
   ]
  },
  {
   "cell_type": "code",
   "execution_count": 7,
   "id": "76cc03df",
   "metadata": {},
   "outputs": [],
   "source": [
    "time_history = ct.SolutionArray(gas, extra=\"t\")"
   ]
  },
  {
   "cell_type": "markdown",
   "id": "9cad645c",
   "metadata": {},
   "source": [
    "Now all the problem setup is done and we have to perform the integration. This is done by one of 3 methods:\n",
    "\n",
    "1. `step()`: Take one timestep, with the size determined by the CVODES integrator\n",
    "2. `advance(time)`: Take many adaptively-sized timesteps until the `time` is reached\n",
    "3. `advance_to_steady_state()`: Take many adaptively-sized timesteps until the system reaches steady state\n",
    "\n",
    "We will use `step()` here to record data at every time step so that we can have a good resolution to calculate the ignition delay. Integration proceeds until the reactor network time is greater than an estimated ignition delay time."
   ]
  },
  {
   "cell_type": "code",
   "execution_count": 8,
   "id": "0fb3d1e6",
   "metadata": {
    "lines_to_next_cell": 2
   },
   "outputs": [],
   "source": [
    "# This is a starting estimate. If you do not get an ignition within this time, increase it\n",
    "estimated_ignition_delay_time = 0.1\n",
    "t = 0\n",
    "while t < estimated_ignition_delay_time:\n",
    "    # Take one step\n",
    "    t = reactor_network.step()\n",
    "    # Append the state of the reactor to the SolutionArray\n",
    "    time_history.append(reactor.thermo.state, t=t)"
   ]
  },
  {
   "cell_type": "code",
   "execution_count": 11,
   "id": "111e2fce",
   "metadata": {},
   "outputs": [
    {
     "data": {
      "text/plain": [
       "            T         D        n2          ch3  ...     c4h7o1-4     c5h9o1-4            t\n",
       "0     1000.00  0.367891  0.719288  6.02963e-18  ...  5.71791e-45  2.29232e-43  1.44275e-13\n",
       "1     1000.00  0.367891  0.719288  1.04446e-14  ...  1.65080e-30  8.28266e-30  2.47971e-10\n",
       "2     1000.00  0.367891  0.719288  3.90520e-14  ...  5.39190e-29  2.62233e-28  9.17760e-10\n",
       "3     1000.00  0.367891  0.719288  6.81865e-14  ...  2.54990e-28  1.22247e-27  1.58755e-09\n",
       "4     1000.00  0.367891  0.719288  9.78916e-14  ...  7.71245e-28  3.64879e-27  2.25734e-09\n",
       "..        ...       ...       ...          ...  ...          ...          ...          ...\n",
       "4043  2839.29  0.367891  0.719288  2.15858e-14  ...  3.08303e-48  2.96760e-61  5.43292e-02\n",
       "4044  2839.29  0.367891  0.719288  2.15858e-14  ...  3.08303e-48  2.96760e-61  5.67612e-02\n",
       "4045  2839.29  0.367891  0.719288  2.15858e-14  ...  3.08303e-48  2.96760e-61  6.65356e-02\n",
       "4046  2839.29  0.367891  0.719288  2.15858e-14  ...  3.08303e-48  2.96760e-61  8.68701e-02\n",
       "4047  2839.29  0.367891  0.719288  2.15858e-14  ...  3.08303e-48  2.96760e-61  1.07205e-01\n",
       "\n",
       "[4048 rows x 163 components; state='TDY']"
      ]
     },
     "execution_count": 11,
     "metadata": {},
     "output_type": "execute_result"
    }
   ],
   "source": [
    "time_history"
   ]
  },
  {
   "cell_type": "markdown",
   "id": "ec352203",
   "metadata": {},
   "source": [
    "Now we can use the integration data to determine the ignition delay. We will use the `\"oh\"` species to compute the ignition delay at the maximum mass fraction of this species. Using round parentheses with the `SolutionArray` returns data about the species that has been passed. From this, we can access the mass fraction with the `Y` attribute and then find the _index_ of the maximum of the mass fraction using `argmax()`. The index is then used to find the ignition delay time."
   ]
  },
  {
   "cell_type": "code",
   "execution_count": 9,
   "id": "b51d3694",
   "metadata": {},
   "outputs": [
    {
     "name": "stdout",
     "output_type": "stream",
     "text": [
      "Computed Ignition Delay: 3.248e-02 seconds.\n"
     ]
    }
   ],
   "source": [
    "reference_species = \"oh\"\n",
    "\n",
    "i_ign = time_history(reference_species).Y.argmax()\n",
    "tau = time_history.t[i_ign]\n",
    "\n",
    "print(f\"Computed Ignition Delay: {tau:.3e} seconds.\")"
   ]
  },
  {
   "cell_type": "markdown",
   "id": "862569f6",
   "metadata": {},
   "source": [
    "### Plot the result"
   ]
  },
  {
   "cell_type": "markdown",
   "id": "23dff585",
   "metadata": {},
   "source": [
    "#### Figure illustrating the definition of ignition delay"
   ]
  },
  {
   "cell_type": "code",
   "execution_count": 10,
   "id": "729a36e3",
   "metadata": {},
   "outputs": [
    {
     "data": {
      "text/plain": [
       "Text(0, 0.5, '$Y_{OH}$')"
      ]
     },
     "execution_count": 10,
     "metadata": {},
     "output_type": "execute_result"
    },
    {
     "data": {
      "application/vnd.jupyter.widget-view+json": {
       "model_id": "a0b6a0098cab4e5f9b6da37eb71540ab",
       "version_major": 2,
       "version_minor": 0
      },
      "image/png": "[encoded data removed]",
      "text/html": [
       "\n",
       "            <div style=\"display: inline-block;\">\n",
       "                <div class=\"jupyter-widgets widget-label\" style=\"text-align: center;\">\n",
       "                    Figure\n",
       "                </div>\n",
       "                <img src='data:image/png;base64,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' width=640.0/>\n",
       "            </div>\n",
       "        "
      ],
      "text/plain": [
       "Canvas(toolbar=Toolbar(toolitems=[('Home', 'Reset original view', 'home', 'home'), ('Back', 'Back to previous …"
      ]
     },
     "metadata": {},
     "output_type": "display_data"
    }
   ],
   "source": [
    "fig, ax = plt.subplots()\n",
    "ax.plot(time_history.t, time_history(reference_species).Y, \"-o\")\n",
    "ax.set_xlabel(\"Time (s)\")\n",
    "ax.set_ylabel(\"$Y_{OH}$\")"
   ]
  },
  {
   "cell_type": "markdown",
   "id": "b9149f3f",
   "metadata": {},
   "source": [
    "### Illustration : NTC behavior\n",
    "\n",
    "A common benchmark for a reaction mechanism is its ability to reproduce the **N**egative **T**emperature **C**oefficient behavior. Intuitively, as the temperature of an explosive mixture increases, it should ignite faster. But, under certain conditions, we observe the opposite. This is referred to as NTC behavior. Reproducing experimentally observed NTC behavior is thus an important test for any mechanism. We will do this now by computing and visualizing the ignition delay for a wide range of temperatures"
   ]
  },
  {
   "cell_type": "markdown",
   "id": "b23778cb",
   "metadata": {},
   "source": [
    "#### Define the temperatures for which we will run the simulations\n",
    "\n",
    "Typical NTC behavior for n-heptane occurs from ~600-800 K, so we need to do an integration of the problem at temperatures in a wide range around those temperatures. We can use some functions from NumPy to make it easy to generate the temperatures we want."
   ]
  },
  {
   "cell_type": "code",
   "execution_count": null,
   "id": "964260cd",
   "metadata": {},
   "outputs": [],
   "source": [
    "T = np.hstack((np.arange(1800, 1000, -100), np.arange(1000, 475, -25)))"
   ]
  },
  {
   "cell_type": "markdown",
   "id": "c4bcce88",
   "metadata": {},
   "source": [
    "As before, we will define some estimated ignition delay times to limit the integration time. These are chosen empirically and must be updated for different fuels or different conditions."
   ]
  },
  {
   "cell_type": "code",
   "execution_count": null,
   "id": "e35a2a7e",
   "metadata": {},
   "outputs": [],
   "source": [
    "estimated_ignition_delay_times = np.ones_like(T, dtype=float)\n",
    "\n",
    "estimated_ignition_delay_times[:6] = 0.1\n",
    "estimated_ignition_delay_times[-4:-2] = 10\n",
    "estimated_ignition_delay_times[-2:] = 100"
   ]
  },
  {
   "cell_type": "markdown",
   "id": "de436ab6",
   "metadata": {},
   "source": [
    "And last, we will create a `SolutionArray` to store the ignition delay results. This `SolutionArray` will only store the final result of calculating the ignition delay, not the time history of each simulation. In this case, we know that we want to have as many rows as the `T` array in our `SolutionArray`, so we can initialize it that way. Then we can set the initial conditions for the entire array of `Solution`s!"
   ]
  },
  {
   "cell_type": "code",
   "execution_count": null,
   "id": "cb5d6d81",
   "metadata": {},
   "outputs": [],
   "source": [
    "ignition_delays = ct.SolutionArray(gas, shape=T.shape, extra={\"tau\":estimated_ignition_delay_times})\n",
    "ignition_delays.set_equivalence_ratio(1.0, fuel=\"nc7h16\", oxidizer={\"o2\": 1.0,\"n2\": 3.76})\n",
    "ignition_delays.TP = T, reactor_pressure"
   ]
  },
  {
   "cell_type": "markdown",
   "id": "61b25d06",
   "metadata": {},
   "source": [
    "Now, we can loop through these states and use them to set the state of the `gas` object, which we can use in the `IdealGasReactor` and do the integration again.\n",
    "\n",
    "This time, we'll only store the information we care about from the simulation, which are the time steps and the history of the reference species. We will use regular Python `list`s to store this information, since they are quite efficient when appending data rapidly.\n",
    "\n",
    "Then we will compute the ignition delay from this data and proceed to the next state!"
   ]
  },
  {
   "cell_type": "code",
   "execution_count": null,
   "id": "44a2cf13",
   "metadata": {},
   "outputs": [],
   "source": [
    "for i, state in enumerate(ignition_delays):\n",
    "    # Setup the gas, reactor and network\n",
    "    # <missing code>\n",
    "    reference_species_history = []\n",
    "    time_history = []\n",
    "    t = 0\n",
    "    while t < estimated_ignition_delay_times[i]:\n",
    "        # <missing code>\n",
    "        time_history.append(t)\n",
    "        reference_species_history.append(gas[reference_species].X[0])\n",
    "    i_ign = np.array(reference_species_history).argmax()\n",
    "    tau = time_history[i_ign]\n",
    "    print(f\"Computed Ignition Delay: {tau:.3e} seconds for T={state.T:.0f} K.\")\n",
    "    ignition_delays[i].tau = tau\n",
    "print(\"Calculation complete!\")"
   ]
  },
  {
   "cell_type": "markdown",
   "id": "6409c634",
   "metadata": {},
   "source": [
    "#### Figure: ignition delay ($\\tau$) vs. the inverse of temperature ($\\frac{1000}{T}$).\n",
    "\n",
    "Last, we will create an Arrhenius plot of the ignition delays."
   ]
  },
  {
   "cell_type": "code",
   "execution_count": null,
   "id": "6519211b",
   "metadata": {},
   "outputs": [],
   "source": [
    "fig = plt.figure()\n",
    "ax = fig.add_subplot(111)\n",
    "ax.semilogy(1000/ignition_delays.T, ignition_delays.tau, 'o-')\n",
    "ax.set_ylabel('Ignition Delay (s)')\n",
    "ax.set_xlabel(r'$\\frac{1000}{T (K)}$', fontsize=18)\n",
    "# Add a second axis on top to plot the temperature for better readability\n",
    "ax2 = ax.twiny()\n",
    "ticks = ax.get_xticks()\n",
    "ax2.set_xticks(ticks)\n",
    "ax2.set_xticklabels((1000/ticks).round(1))\n",
    "ax2.set_xlim(ax.get_xlim())\n",
    "ax2.set_xlabel(r'Temperature: $T(K)$')"
   ]
  }
 ],
 "metadata": {
  "jupytext": {
   "cell_metadata_filter": "-all",
   "main_language": "python",
   "notebook_metadata_filter": "-all"
  },
  "kernelspec": {
   "display_name": "default",
   "language": "python",
   "name": "python3"
  },
  "language_info": {
   "codemirror_mode": {
    "name": "ipython",
    "version": 3
   },
   "file_extension": ".py",
   "mimetype": "text/x-python",
   "name": "python",
   "nbconvert_exporter": "python",
   "pygments_lexer": "ipython3",
   "version": "3.13.2"
  }
 },
 "nbformat": 4,
 "nbformat_minor": 5
}
